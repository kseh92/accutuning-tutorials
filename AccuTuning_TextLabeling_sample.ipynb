{
 "cells": [
  {
   "cell_type": "markdown",
   "metadata": {},
   "source": [
    "# Accu.Tuning Tutorial 4 - Text Labeling\n",
    "-----\n",
    "Accu.Tuning에서는 전처리 과정에서 한글 데이터를 자동으로 레이블링하여 새로운 컬럼으로 추가하는 기능을 제공합니다(자체 자연어 처리 기법 사용). **Accu.Tuning** 상에서 텍스트를 내용에 상관없이 자동으로 레이블링하고, 이를 이용하여 텍스트를 분류하는 모델을 쉽게 구성하여 예측할 수도 있습니다. 본 튜토리얼 상에서는 실제 텍스트 데이터를 사용하여 새로운 레이블을 만들고, 새로운 데이터에서도 레이블을 예측하는 분류 모델을 구성하는 일련의 과정을 소개합니다.\n",
    "\n",
    "## 1. 데이터 준비\n",
    "-----\n",
    "\n",
    "텍스트 레이블링 수행을 위해서는 한글데이터 컬럼이 포함된 데이터셋을 준비해야 합니다. 본 튜토리얼에서는 SK주식회사 C&C와 관련된 뉴스 텍스트 데이터를 수집하여 이용하였습니다. **Accu.Tuning** 상에서 데이터를 로드한다면 전처리 탭에서 다음과 같이 데이터의 모습을 확인할 수 있습니다. 본 사례에서는 다른 부가 정보 없이 텍스트 컬럼 하나만 존재하는 형태의 데이터를 활용하였지만, 여러 컬럼이 있는 데이터 프레임에서 한 컬럼을 대상으로 레이블링을 수행하는 것도 마찬가지 방법으로 가능합니다. \n",
    "\n",
    "![data](img/text_data.png)\n"
   ]
  },
  {
   "cell_type": "markdown",
   "metadata": {},
   "source": [
    "## 2. Zero-Shot Learning\n",
    "-----\n",
    "전처리 탭에서 컬럼의 데이터 타입이 Object로 되어있을 경우, NL_LABELING 변형을 선택할 수 있습니다. \n",
    "\n",
    "![text_preprocessing](img/text_preprocessing.png)\n",
    "\n",
    "그리고 NL_LABELING 설정(CONFIG) 창에서 텍스트를 분류할 방법을 선택할 수 있습니다. \n",
    "먼저 시행할 Zero-Shot learning은 비지도 학습의 일종으로 레이블링 정답을 제공하지 않은 채로 학습을 하여 AI가 스스로 레이블링 정답을 찾아내도록 하는 기법입니다. 다음과 같이 레이블 정답의 개수만 설정하면 바로 텍스트를 정답 개수 만큼의 레이블로 분류할 수 있습니다.\n",
    "\n",
    "<img src=\"img/text_zeroshot_config.png\" width=\"500\">\n",
    "\n",
    "\n",
    "설정 후 **레이블링 시작** 버튼을 클릭하면 아래와 같이 설정한 개수 만큼의 레이블로 전체 텍스트 데이터를 분류한 결과를 제공합니다.\n",
    "\n",
    "![zeroshot_result](img/text_zeroshot_result.png)"
   ]
  },
  {
   "cell_type": "markdown",
   "metadata": {},
   "source": [
    "## 3. Few-Shot Learning\n",
    "-----\n",
    "\n",
    "Few-Shot Learning은 Zero-Shot Learning과는 달리 사용자가 몇 개의 데이터에 한정하여 레이블을 지정할 수 있습니다. 모델은 일부 데이터에 지정한 레이블로 나머지 전체 데이터를 레이블링합니다. Few-Shot Learning은 Zero-Shot learning 이후 사용하여 레이블링의 정확도를 높일 수 있는데, Zero-Shot learning 결과 중 사용자의 의도와 다르게 분류된 값이 있을 경우 의도에 맞는 정답을 직접 제공하거나 새로운 레이블 값을 추가하는 등 이용할 수 있습니다. 모든 데이터에 대한 정답 레이블을 제공할 필요는 없으며, 일부만 제공하면 AI가 알아서 나머지에 대해서도 레이블링 정답을 찾아냅니다.\n",
    "\n",
    "![fewshot_settings](img/text_fewshot_settings.png)\n",
    "\n",
    "아래 설정 화면에서 Few-Shot Learning을 위한 레이블을 수정 혹은 추가하여 저장할 수 있습니다. **START ACTIVE-LEARN LABELING** 버튼을 클릭하여 Few-Shot Learning 학습을 진행합니다. 학습이 완료되면 데이터의 각 text 마다 상응하는 레이블이 달리게 됩니다. 기존 데이터에 새로 생긴 레이블 컬럼을 더하는 방식으로 활용할 수 있습니다.\n",
    "\n",
    "Zero-Shot Learning과 Few-Shot Learning 결과물 모두 Review 탭에서 아래와 같이 Silhouette Score, Calinski and Harabasz score, Davies-Bouldin score 등 클러스터링 성능을 나타내는 지표와 PCA, t-SNE 등 기법을 통해 시각화된 클러스터의 모습을 간편하게 확인할 수 있습니다. \n",
    "\n",
    "![review](img/text_review.png)"
   ]
  },
  {
   "cell_type": "markdown",
   "metadata": {},
   "source": [
    "## 4. 모델링과 예측\n",
    "-----\n",
    "\n",
    "레이블링을 통해 데이터를 전처리 완료하였다면 레이블 컬럼을 더하는 것 외에도 Accu.Tuning의 모델이 처리할 수 있는 벡터 형식으로 텍스트 데이터를 변환할 수 있습니다. 벡터로 변환된 데이터는 아래와 같은 형태로 새로 저장됩니다. 기존에는 텍스트 컬럼 하나로 구성되어 있던 데이터가 총 768개 컬럼으로 구성된 텍스트 벡터에 레이블 컬럼이 더해진 형태로 변환된 것을 확인할 수 있습니다. \n",
    "\n",
    "![vectorized](img/text_vectorized.png)\n",
    "\n",
    "다른 일반적인 분류, 회귀 문제를 수행할 때와 마찬가지로 **RUN AUTOML** 버튼을 클릭하여 변환한 데이터를 이용한 분류 모델을 구성합니다. 구성된 텍스트 분류 모델은 아래와 같이 다른 모델처럼 배포 후 외부에서도 활용 가능한 형태로 제공됩니다.\n",
    "\n",
    "![deployed](img/text_deployed.png)\n"
   ]
  },
  {
   "cell_type": "markdown",
   "metadata": {},
   "source": [
    "배포된 모델은 텍스트를 넣었을 때 분류 모델을 이용하여 그 레이블을 예측하는데 이용할 수 있습니다. 아래와 같이 **Accu.Tuning** 웹페이지 상에서 이용할 때에는 기본적으로 한 인풋 값을 대상으로 그 레이블을 예측할 수 있지만, 배포된 모델을 외부에서 이용하거나 API 형태로 이용할 경우 복수 개의 인풋 값을 한번에 넣어 그 레이블들을 예측하는 것 또한 가능합니다.\n",
    "\n",
    "![prediction](img/text_prediction.png)"
   ]
  },
  {
   "cell_type": "code",
   "execution_count": null,
   "metadata": {},
   "outputs": [],
   "source": []
  }
 ],
 "metadata": {
  "kernelspec": {
   "display_name": "Python 3",
   "language": "python",
   "name": "python3"
  },
  "language_info": {
   "codemirror_mode": {
    "name": "ipython",
    "version": 3
   },
   "file_extension": ".py",
   "mimetype": "text/x-python",
   "name": "python",
   "nbconvert_exporter": "python",
   "pygments_lexer": "ipython3",
   "version": "3.7.6"
  }
 },
 "nbformat": 4,
 "nbformat_minor": 4
}
