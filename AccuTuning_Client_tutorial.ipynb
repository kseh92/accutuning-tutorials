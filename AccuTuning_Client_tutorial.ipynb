{
 "cells": [
  {
   "cell_type": "markdown",
   "metadata": {},
   "source": [
    "# Accu.Tuning Client\n",
    "\n",
    "**Accu.Tuning**이 원격에 설치되어 있는 경우, 개인 노트북에서도 원격 서버 자원을 이용해서 automl 작업 전반을 수행할 수 있도록 Client를 제공합니다. Client를 활용하여 다양한 환경에서 튜토리얼에서 Accu.Tuning의 여러 기능들을 원격으로 제어할 수 있습니다. \n",
    "\n",
    "본 튜토리얼에서는 다른 튜토리얼에서 확인할 수 있었던 실험 생성, 데이터 전처리, 모델링, 배포, 모델 활용 등 **Accu.Tuning**의 전체 프로세스를 Client를 이용하여 간단하게 구동하고, 확인하는 과정을 제공합니다."
   ]
  },
  {
   "cell_type": "code",
   "execution_count": 1,
   "metadata": {},
   "outputs": [],
   "source": [
    "from accutuning_client.category import Sklearn\n",
    "from accutuning_client.client import Client"
   ]
  },
  {
   "cell_type": "markdown",
   "metadata": {},
   "source": [
    "Client 사용을 위하여 구동 중인 **Accu.Tuning**이 위치한 IP와 포트를 입력합니다."
   ]
  },
  {
   "cell_type": "code",
   "execution_count": 2,
   "metadata": {},
   "outputs": [],
   "source": [
    "client = Client('localhost', 8000)"
   ]
  },
  {
   "cell_type": "markdown",
   "metadata": {},
   "source": [
    "연결에 성공하면 현재 Accu.Tuning 상에 존재하는 Experiments, Sources를 확인할 수 있습니다."
   ]
  },
  {
   "cell_type": "code",
   "execution_count": 3,
   "metadata": {},
   "outputs": [
    {
     "name": "stdout",
     "output_type": "stream",
     "text": [
      "현재 Experiments는 총 2개 있습니다.\n",
      "[{'id': '2', 'name': 'Experiment-2', 'metric': 'NEG_MEAN_SQUARED_ERROR', 'modelsCnt': 0, 'status': 'ready', 'targetColumnName': 'target', 'dataset': {'id': '2', 'name': 'boston', 'featureNames': ['CRIM', 'ZN', 'INDUS', 'CHAS', 'NOX', 'RM', 'AGE', 'DIS', 'RAD', 'TAX', 'PTRATIO', 'B', 'LSTAT', 'target'], 'processingStatus': 'READY'}, 'deploymentsCnt': 0}, {'id': '1', 'name': 'Experiment-1', 'metric': 'ACCURACY', 'modelsCnt': 0, 'status': 'ready', 'targetColumnName': 'target', 'dataset': {'id': '1', 'name': 'iris', 'featureNames': ['sepal length (cm)', 'sepal width (cm)', 'petal length (cm)', 'petal width (cm)', 'target'], 'processingStatus': 'FINISHED'}, 'deploymentsCnt': 0}]\n"
     ]
    }
   ],
   "source": [
    "experiments = client.experiments()\n",
    "print(f'현재 Experiments는 총 {len(experiments)}개 있습니다.')\n",
    "print(experiments)"
   ]
  },
  {
   "cell_type": "code",
   "execution_count": 4,
   "metadata": {},
   "outputs": [
    {
     "name": "stdout",
     "output_type": "stream",
     "text": [
      "현재 Sources는 총 2개 있습니다.\n"
     ]
    },
    {
     "data": {
      "text/plain": [
       "[{'id': 3,\n",
       "  'filesize': '39.2 kB',\n",
       "  'filename': 'sources/boston.csv',\n",
       "  'fileurl': '/media/sources/boston.csv',\n",
       "  'datasetCount': 0,\n",
       "  'createdAt': '2021-02-04T17:43:07.733381',\n",
       "  'name': None,\n",
       "  'file': 'http://localhost:8000/media/sources/boston.csv',\n",
       "  'hidden': False,\n",
       "  'samplingSize': None,\n",
       "  'samplingRatio': None,\n",
       "  'samplingRandomSeed': 42,\n",
       "  'colNames': 'CRIM,ZN,INDUS,CHAS,NOX,RM,AGE,DIS,RAD,TAX,PTRATIO,B,LSTAT,target',\n",
       "  'colCount': 14,\n",
       "  'createdBy': None},\n",
       " {'id': 1,\n",
       "  'filesize': '3.1 kB',\n",
       "  'filename': 'sources/iris.csv',\n",
       "  'fileurl': '/media/sources/iris.csv',\n",
       "  'datasetCount': 0,\n",
       "  'createdAt': '2021-02-04T17:42:55.999539',\n",
       "  'name': None,\n",
       "  'file': 'http://localhost:8000/media/sources/iris.csv',\n",
       "  'hidden': False,\n",
       "  'samplingSize': None,\n",
       "  'samplingRatio': None,\n",
       "  'samplingRandomSeed': 42,\n",
       "  'colNames': 'sepal length (cm),sepal width (cm),petal length (cm),petal width (cm),target',\n",
       "  'colCount': 5,\n",
       "  'createdBy': None}]"
      ]
     },
     "execution_count": 4,
     "metadata": {},
     "output_type": "execute_result"
    }
   ],
   "source": [
    "sources = client.sources()\n",
    "print(f'현재 Sources는 총 {len(sources)}개 있습니다.')\n",
    "sources"
   ]
  },
  {
   "cell_type": "markdown",
   "metadata": {},
   "source": [
    "다음과 같이 작업을 실시할 Experiment를 선택하거나, 필요한 경우 Experiment를 생성합니다."
   ]
  },
  {
   "cell_type": "code",
   "execution_count": 5,
   "metadata": {},
   "outputs": [
    {
     "name": "stdout",
     "output_type": "stream",
     "text": [
      "{\"id\":4,\"status\":\"creating\",\"bestScore\":null,\"modelsCnt\":0,\"deploymentsCnt\":0,\"doneSlot\":0,\"totalSlot\":3600,\"availableMetrics\":[\"accuracy\",\"balanced_accuracy\",\"f1_macro\",\"f1_micro\",\"f1_weighted\",\"neg_log_loss\",\"precision_macro\",\"precision_micro\",\"precision_weighted\",\"recall_macro\",\"recall_micro\",\"recall_weighted\",\"roc_auc_ovr\"],\"availableEstimators\":[\"logistic_regression\",\"bernoulli_nb\",\"adaboost\",\"decision_tree\",\"extra_trees\",\"gradient_boosting\",\"hist_gradient_boosting\",\"k_nearest_neighbor\",\"lda\",\"liblinear_svc\",\"libsvm_svc\",\"nusvc\",\"mlp\",\"multinomial_nb\",\"passive_aggressive\",\"qda\",\"random_forest\",\"sgd\",\"xgboost\",\"lightgbm\",\"catboost\"],\"includeEstimators\":[\"decision_tree\",\"gradient_boosting\",\"libsvm_svc\",\"lightgbm\",\"logistic_regression\",\"random_forest\",\"xgboost\"],\"includeScalingMethods\":[\"none\",\"standardize\",\"none\"],\"includeFeatureEngineerings\":[\"None\",\"SelectFwe\",\"SelectKBest\",\"None\"],\"availableScalingMethods\":[\"standardize\",\"minmax\",\"normalize\"],\"availableFeatureEngineerings\":[\"SelectPercentile\",\"SelectKBest\",\"SelectFwe\",\"Boruta\",\"FastICA\",\"FeatureAgglomeration\",\"Polynomial\",\"PCA\",\"Nystroem\"],\"workspaceSize\":null,\"splitTestdataRate\":null,\"splitColumnName\":null,\"splitColumnValueForValid\":null,\"splitColumnValueForTest\":null,\"targetColumnName\":null,\"resamplingStrategy\":\"holdout\",\"resamplingStrategyHoldoutTrainSize\":0.7,\"resamplingStrategyCvFolds\":5,\"resamplingStrategyPartialcvShuffle\":true,\"useSampling\":false,\"samplingRatio\":0.7,\"workerScale\":1,\"clusterOptimizer\":\"random\",\"includeClusterAlgorithmsJson\":\"[\\\"KMeans\\\", \\\"GaussianMixture\\\", \\\"MiniBatchKMeans\\\", \\\"MeanShift\\\", \\\"SpectralClustering\\\", \\\"AgglomerativeClustering\\\", \\\"OPTICS\\\", \\\"Birch\\\", \\\"DBSCAN\\\"]\",\"includeClusterDimReductionAlgsJson\":\"[\\\"PCA\\\"]\",\"numClusters\":null,\"name\":\"Experiment-4\",\"description\":null,\"private\":true,\"public\":true,\"showcase\":false,\"createdAt\":\"2021-02-04T17:47:32.578797\",\"startedAt\":null,\"stoppedAt\":null,\"logLevel\":\"INFO\",\"hidden\":false,\"openPreprocess\":false,\"useCustomContainerResource\":false,\"customContainerGpuLimit\":0,\"customContainerMemoryLimit\":0,\"customContainerCpuLimit\":0,\"timeout\":3600,\"maxEvalTime\":300,\"randomState\":42,\"estimatorType\":\"classifier\",\"useEarlystopping\":true,\"useOptuna\":false,\"useAlphaautoml\":false,\"useEnsemble\":true,\"ensembleSize\":20,\"ensembleNBest\":20,\"metric\":\"accuracy\",\"includeEstimatorsJson\":\"[\\\"logistic_regression\\\", \\\"decision_tree\\\", \\\"gradient_boosting\\\", \\\"libsvm_svc\\\", \\\"random_forest\\\", \\\"xgboost\\\", \\\"lightgbm\\\"]\",\"useAutopipeline\":false,\"includeTimeseries\":false,\"includeScalingMethodsJson\":\"[\\\"none\\\", \\\"standardize\\\"]\",\"includeFeatureEngineeringsJson\":\"[\\\"None\\\", \\\"SelectKBest\\\", \\\"SelectFwe\\\"]\",\"includeOneHotEncoding\":true,\"includeVarianceThreshold\":true,\"createdBy\":null}\n",
      "\n",
      " Experiment 생성: {'id': '4', 'name': 'Experiment-4', 'metric': 'ACCURACY', 'modelsCnt': 0, 'status': 'creating', 'targetColumnName': None, 'dataset': {'id': '5', 'name': 'sources/iris.csv', 'featureNames': [], 'processingStatus': 'INIT'}, 'deploymentsCnt': 0}\n"
     ]
    }
   ],
   "source": [
    "client.create_experiment(sources[1])\n",
    "print(f'\\n Experiment 생성: {client.experiments()[0]}')"
   ]
  },
  {
   "cell_type": "code",
   "execution_count": 6,
   "metadata": {},
   "outputs": [
    {
     "name": "stdout",
     "output_type": "stream",
     "text": [
      "{'id': '2', 'name': 'Experiment-2', 'metric': 'NEG_MEAN_SQUARED_ERROR', 'modelsCnt': 0, 'status': 'ready', 'targetColumnName': 'target', 'dataset': {'id': '2', 'name': 'boston', 'featureNames': ['CRIM', 'ZN', 'INDUS', 'CHAS', 'NOX', 'RM', 'AGE', 'DIS', 'RAD', 'TAX', 'PTRATIO', 'B', 'LSTAT', 'target'], 'processingStatus': 'READY'}, 'deploymentsCnt': 0}\n",
      "2\n"
     ]
    }
   ],
   "source": [
    "experiment = experiments[0]\n",
    "print(experiment)\n",
    "print(experiment.get('id'))"
   ]
  },
  {
   "cell_type": "markdown",
   "metadata": {},
   "source": [
    "Run 하기 전 데이터 전처리를 진행할 수 있습니다. 데이터로부터 전처리 설정을 추천받아 데이터에 맞는 전처리를 진행할 수도 있습니다."
   ]
  },
  {
   "cell_type": "code",
   "execution_count": 7,
   "metadata": {},
   "outputs": [],
   "source": [
    "client.preprocessor_config_recommend(experiment)\n",
    "client.preprocess(experiment)"
   ]
  },
  {
   "cell_type": "markdown",
   "metadata": {},
   "source": [
    "해당 코드를 통해 전처리를 실행하였을 경우, Accu.Tuning 화면 상에서도 전처리 설정이 자동으로 입력되어 작업이 진행되는 것을 확인할 수 있습니다.\n",
    "\n",
    "![prep](img/client-preprocess.png)\n",
    "\n",
    "전처리 작업을 마치고 Experiment가 준비되면 아래와 같이 AutoML 탐색을 시작할 수 있습니다."
   ]
  },
  {
   "cell_type": "code",
   "execution_count": 8,
   "metadata": {},
   "outputs": [],
   "source": [
    "if experiment.get('status') == 'ready':\n",
    "    # Run AutoML\n",
    "    client.run(experiment)\n",
    "else:\n",
    "    print('Run 실행 가능한 상태가 아님')"
   ]
  },
  {
   "cell_type": "markdown",
   "metadata": {},
   "source": [
    "![models](img/client-models.png)\n",
    "\n",
    "이와 같이 모델이 생성되는 것을 확인할 수 있습니다. 작업이 완료되면 해당 Experiment의 모델링 결과를 확인하고, 모델 배포를 진행할 수도 있습니다."
   ]
  },
  {
   "cell_type": "code",
   "execution_count": 10,
   "metadata": {},
   "outputs": [
    {
     "name": "stdout",
     "output_type": "stream",
     "text": [
      "leaderboad의 model 갯수는 16\n"
     ]
    }
   ],
   "source": [
    "leaderboard = client.leaderboard(experiment)\n",
    "print(f'leaderboad의 model 갯수는 {len(leaderboard)}')"
   ]
  },
  {
   "cell_type": "code",
   "execution_count": 11,
   "metadata": {},
   "outputs": [],
   "source": [
    "model = leaderboard[0]\n",
    "if model.get('deployedStatus') is None:\n",
    "    # 모델 배포\n",
    "    client.deploy(model)"
   ]
  },
  {
   "cell_type": "code",
   "execution_count": 12,
   "metadata": {},
   "outputs": [
    {
     "name": "stdout",
     "output_type": "stream",
     "text": [
      "{'deployments': [{'id': '1', 'name': 'gradient_boosting', 'description': None, 'status': 'DONE', 'modelType': 'model', 'modelPk': 15, 'allMetricsJson': None, 'createdAt': '2021-02-04T18:03:22.661894', 'testScore': None, 'model': {'id': '15', 'trainScore': -0.012175457401233148, 'validScore': -0.047847888319717424}, 'file': {'url': 'http://localhost:8000/media/runtime_0002/runtimeprocess_0009/output/pipeline.pkl', 'size': '221690', 'sizeHumanized': '221.7 kB', 'name': 'runtime_0002/runtimeprocess_0009/output/pipeline.pkl'}}]}\n",
      "배포된 모델은 1개 입니다.\n"
     ]
    }
   ],
   "source": [
    "# Deployement 정보 구해오기\n",
    "deployments = client.deployments(experiment)\n",
    "print(f'배포된 모델은 {len(deployments)}개 입니다.')\n",
    "deployed_model = deployments[0]"
   ]
  },
  {
   "cell_type": "markdown",
   "metadata": {},
   "source": [
    "완료된 모델을 이용하여 예측을 실시하는 것도 가능합니다."
   ]
  },
  {
   "cell_type": "code",
   "execution_count": 13,
   "metadata": {},
   "outputs": [
    {
     "name": "stdout",
     "output_type": "stream",
     "text": [
      "[{'id': '6', 'name': 'CRIM', 'datatype': 'FLOAT64', 'mostFrequent': '14.3337', 'min': 0.01, 'max': 88.98}, {'id': '7', 'name': 'ZN', 'datatype': 'FLOAT64', 'mostFrequent': '0.0', 'min': 0.0, 'max': 100.0}, {'id': '8', 'name': 'INDUS', 'datatype': 'FLOAT64', 'mostFrequent': '18.1', 'min': 0.46, 'max': 27.74}, {'id': '9', 'name': 'CHAS', 'datatype': 'FLOAT64', 'mostFrequent': '0.0', 'min': 0.0, 'max': 1.0}, {'id': '10', 'name': 'NOX', 'datatype': 'FLOAT64', 'mostFrequent': '0.5379999999999999', 'min': 0.38, 'max': 0.87}, {'id': '11', 'name': 'RM', 'datatype': 'FLOAT64', 'mostFrequent': '6.405', 'min': 3.56, 'max': 8.78}, {'id': '12', 'name': 'AGE', 'datatype': 'FLOAT64', 'mostFrequent': '100.0', 'min': 2.9, 'max': 100.0}, {'id': '13', 'name': 'DIS', 'datatype': 'FLOAT64', 'mostFrequent': '3.4952', 'min': 1.13, 'max': 12.13}, {'id': '14', 'name': 'RAD', 'datatype': 'FLOAT64', 'mostFrequent': '24.0', 'min': 1.0, 'max': 24.0}, {'id': '15', 'name': 'TAX', 'datatype': 'FLOAT64', 'mostFrequent': '666.0', 'min': 187.0, 'max': 711.0}, {'id': '16', 'name': 'PTRATIO', 'datatype': 'FLOAT64', 'mostFrequent': '20.2', 'min': 12.6, 'max': 22.0}, {'id': '17', 'name': 'B', 'datatype': 'FLOAT64', 'mostFrequent': '396.9', 'min': 0.32, 'max': 396.9}, {'id': '18', 'name': 'LSTAT', 'datatype': 'FLOAT64', 'mostFrequent': '14.1', 'min': 1.73, 'max': 37.97}]\n"
     ]
    }
   ],
   "source": [
    "# 각 피쳐별 최빈값으로 예측\n",
    "mostfrequent = client.mostfrequent(experiment)\n",
    "print(mostfrequent)"
   ]
  },
  {
   "cell_type": "code",
   "execution_count": 14,
   "metadata": {},
   "outputs": [
    {
     "name": "stdout",
     "output_type": "stream",
     "text": [
      "{'CRIM': '14.3337', 'ZN': '0.0', 'INDUS': '18.1', 'CHAS': '0.0', 'NOX': '0.5379999999999999', 'RM': '6.405', 'AGE': '100.0', 'DIS': '3.4952', 'RAD': '24.0', 'TAX': '666.0', 'PTRATIO': '20.2', 'B': '396.9', 'LSTAT': '14.1'}\n"
     ]
    }
   ],
   "source": [
    "input_val = {col.get('name'): col.get('mostFrequent') for col in mostfrequent}\n",
    "print(input_val)"
   ]
  },
  {
   "cell_type": "code",
   "execution_count": 15,
   "metadata": {},
   "outputs": [
    {
     "name": "stdout",
     "output_type": "stream",
     "text": [
      "예측값은 2.9632004449270677 입니다.\n"
     ]
    }
   ],
   "source": [
    "predict_val = client.predict(deployed_model, input_val, experiment.get('id'))\n",
    "print(f'예측값은 {predict_val} 입니다.')"
   ]
  },
  {
   "cell_type": "code",
   "execution_count": null,
   "metadata": {},
   "outputs": [],
   "source": []
  }
 ],
 "metadata": {
  "kernelspec": {
   "display_name": "Python 3",
   "language": "python",
   "name": "python3"
  },
  "language_info": {
   "codemirror_mode": {
    "name": "ipython",
    "version": 3
   },
   "file_extension": ".py",
   "mimetype": "text/x-python",
   "name": "python",
   "nbconvert_exporter": "python",
   "pygments_lexer": "ipython3",
   "version": "3.7.6"
  }
 },
 "nbformat": 4,
 "nbformat_minor": 4
}
